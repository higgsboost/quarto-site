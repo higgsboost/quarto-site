{
  "cells": [
    {
      "cell_type": "raw",
      "metadata": {},
      "source": [
        "---\n",
        "title: NeRF with Jax\n",
        "format: html\n",
        "reference-location: margin\n",
        "bibliography: ../../references.bib\n",
        "html-math-method: katex\n",
        "editor:\n",
        "  render-on-save: true\n",
        "---"
      ],
      "id": "e15d98c4"
    },
    {
      "cell_type": "markdown",
      "metadata": {},
      "source": [
        "The NeRF paper [@Mildenhall2020], gives \n",
        "\n",
        "\n",
        "\n",
        "### Dataset\n",
        "Get the tiny blender nerf dataset"
      ],
      "id": "3fb82a2c"
    },
    {
      "cell_type": "code",
      "metadata": {},
      "source": [
        "#| code-fold: true\n",
        "import os \n",
        "if not os.path.exists('/tmp/tiny_nerf_data.npz'):\n",
        "    !wget http://cseweb.ucsd.edu/~viscomp/projects/LF/papers/ECCV20/nerf/tiny_nerf_data.npz -P /tmp"
      ],
      "id": "11892220",
      "execution_count": null,
      "outputs": []
    },
    {
      "cell_type": "markdown",
      "metadata": {},
      "source": [
        "What does the data look like?"
      ],
      "id": "6f983858"
    },
    {
      "cell_type": "code",
      "metadata": {},
      "source": [
        "import numpy as np\n",
        "data = np.load('/tmp/tiny_nerf_data.npz', allow_pickle=True)\n",
        "images = data['images']\n",
        "poses = data['poses']\n",
        "focal = data['focal']\n",
        "\n",
        "print(f'Images size : {images.shape}')\n",
        "print(f'Pose : {poses[0]}')\n",
        "print(f'Focal length: {focal}')"
      ],
      "id": "dd5d16c5",
      "execution_count": null,
      "outputs": []
    },
    {
      "cell_type": "markdown",
      "metadata": {},
      "source": [
        "The pose includes the extrinsic parameters - rotation and translation matrices - $[R | T]$. And the focal length is the intrinsic property. Using this we can find the camera ray:\n",
        "\n",
        "\n",
        "$$\n",
        "\\vec{r} = \\vec{o} + t\\vec{d}\n",
        "$$ {#eq-camera-ray}\n",
        "\n",
        "\n",
        "The vector $\\vec{d}$, can be thought of as $\\vec{d}= R\\vec{d}_o$, where $\\vec{d}_o$ is the direction vector of a standard pinhole camera without rotation - which can be found by using the focal length: $\\vec{d}_o = f[x/f, y/f, -1]$\n",
        "\n",
        "\n",
        "The cones in the below plot shows the direction of camera ray. The original is shown where $z=0$, and two additional poses are also plotted."
      ],
      "id": "5d16e584"
    },
    {
      "cell_type": "code",
      "metadata": {},
      "source": [
        "#| code-fold: true\n",
        "import plotly.graph_objects as go\n",
        "#xv, yv = np.meshgrid(0, 500, indexing='xy')\n",
        "H = 100\n",
        "W = 100\n",
        "x, y, z = np.mgrid[0:W:10, 0:H:10, 0:H:10]\n",
        "x = x.flatten() - W/2\n",
        "y = y.flatten() - H/2\n",
        "z = z.flatten()*0\n",
        "\n",
        "u = x/focal \n",
        "v = y/focal\n",
        "\n",
        "w = -np.ones_like(x)\n",
        "print(u[0], v[0], w[0])\n",
        "\n",
        "fig = go.Figure()\n",
        "fig.add_trace(go.Cone(\n",
        "    x=x,\n",
        "    y=y,\n",
        "    z=z,\n",
        "    u=u,\n",
        "    v=v,\n",
        "    w=w,\n",
        "    ))\n",
        "\n",
        "for i in range(0, 40,30):\n",
        "    rot = poses[i][:3,:3]\n",
        "    t = poses[i][:3,3]\n",
        "    t= t[..., np.newaxis]\n",
        "    p = np.stack([x, y, z]) \n",
        "    d = np.stack([u, v, w]) \n",
        "    p = rot @ p \n",
        "    d = rot @ d \n",
        "    nx, ny, nz = p \n",
        "    nu, nv, nw = d \n",
        "    fig.add_trace(go.Cone(\n",
        "        x=nx,\n",
        "        y=ny,\n",
        "        z=nz,\n",
        "        u=nu,\n",
        "        v=nv,\n",
        "        w=nw*2,\n",
        "        ))\n",
        "\n",
        "fig.show()"
      ],
      "id": "aab07358",
      "execution_count": null,
      "outputs": []
    },
    {
      "cell_type": "code",
      "metadata": {},
      "source": [
        "import jax\n",
        "import jax.numpy as jnp\n",
        "\n",
        "def get_ray(H, W, focal, pose):\n",
        "    x, y = jnp.mgrid[0:W, 0:H]\n",
        "    x = x - W/2\n",
        "    y = y - H/2\n",
        "    y = -y # bender seems to use -y \n",
        "\n",
        "    x = x.flatten()\n",
        "    y = y.flatten()\n",
        "\n",
        "    direction = jnp.stack([x, y, -jnp.ones_like(x)])\n",
        "    # Normalize direction\n",
        "    direction_norm = jnp.linalg.norm(direction, ord=2, axis=0)\n",
        "    direction = direction/direction_norm\n",
        "\n",
        "    rot = pose[:3, :3] \n",
        "    direction = jnp.matmul(rot, direction)\n",
        "\n",
        "    translation = pose[:3, 3]\n",
        "    translation = translation[..., jnp.newaxis]\n",
        "    origin = jnp.broadcast_to(translation, direction.shape)\n",
        "    return origin, direction \n",
        "\n",
        "def get_ray_concrete(x):\n",
        "    return get_ray(H, W, focal, x)\n",
        "\n",
        "get_ray_batched = jax.vmap(get_ray_concrete, in_axes=(0))"
      ],
      "id": "53c080bb",
      "execution_count": null,
      "outputs": []
    },
    {
      "cell_type": "markdown",
      "metadata": {},
      "source": [
        "Let's see how much `vmap` speeds up `get_ray`:\n"
      ],
      "id": "c770d299"
    },
    {
      "cell_type": "code",
      "metadata": {},
      "source": [
        "%%timeit\n",
        "for _ in range(2):\n",
        "    for pose in poses: _, _ = get_ray_concrete(pose)"
      ],
      "id": "0107622a",
      "execution_count": null,
      "outputs": []
    },
    {
      "cell_type": "code",
      "metadata": {},
      "source": [
        "%%timeit\n",
        "for _ in range(2):\n",
        "    _, _ = get_ray_batched(poses)"
      ],
      "id": "4d7d2e72",
      "execution_count": null,
      "outputs": []
    },
    {
      "cell_type": "markdown",
      "metadata": {},
      "source": [
        "What about using `jit`?"
      ],
      "id": "082eac77"
    },
    {
      "cell_type": "code",
      "metadata": {},
      "source": [
        "%%timeit\n",
        "get_ray_batched_jit = jax.jit(get_ray_batched)\n",
        "for _ in range(2):\n",
        "    direction, origin = get_ray_batched_jit(poses)"
      ],
      "id": "ad90083f",
      "execution_count": null,
      "outputs": []
    },
    {
      "cell_type": "markdown",
      "metadata": {},
      "source": [
        "Using `vmap` is fast, but `jit` is much much faster!\n",
        "\n",
        "### Camera ray and position encoding\n",
        "Let's construct the function @eq-camera-ray.\n"
      ],
      "id": "c636d53e"
    },
    {
      "cell_type": "code",
      "metadata": {},
      "source": [
        "near = 2.\n",
        "far = 6.\n",
        "num_samples = 64\n",
        "\n",
        "def r_func(o, d, t):\n",
        "    r = o + t*d\n",
        "    return r\n",
        "\n",
        "t = jnp.linspace(near, far, num_samples)\n",
        "\n",
        "get_ray_batched_jit = jax.jit(get_ray_batched)\n",
        "origin, direction = get_ray_batched_jit(poses)\n",
        "r = r_func(origin, direction, num_samples)\n",
        "print(r.shape)"
      ],
      "id": "068614d0",
      "execution_count": null,
      "outputs": []
    },
    {
      "cell_type": "markdown",
      "metadata": {},
      "source": [
        "In **Section 5.1** the position encoding $\\gamma$ is a mapping from $\\mathbb{R}$ to $\\mathbb{R}^{2L}$, where $L=10$ for the coordinate values $x$ and $l=4$ the direction vector :\n",
        "\n",
        "\n",
        "$$\n",
        "\\gamma(p) = (sin(2^0\\pi p), cos(2^0 p), \\dots, sin(2^{L-1}\\pi p), cos(2^{L-1} p))\n",
        "$$"
      ],
      "id": "3c327996"
    },
    {
      "cell_type": "code",
      "metadata": {},
      "source": [
        "def encoding_func(x, L):\n",
        "    encoded_array = []\n",
        "    for i in range(L):\n",
        "        encoded_array.extend([jnp.sin(jnp.power(2, i) * jnp.pi * x), jnp.cos(jnp.power(2,i) * jnp.pi * x)])\n",
        "    return jnp.array(encoded_array)\n",
        "\n",
        "encoding_func_batched = jax.vmap(encoding_func, (0, None))\n",
        "r_encoded = encoding_func_batched(r, 10)\n",
        "print(f'Position before encoding shape {r.shape}')\n",
        "print(f'Position after encoding shape {r_encoded.shape}')"
      ],
      "id": "9f98df26",
      "execution_count": null,
      "outputs": []
    },
    {
      "cell_type": "markdown",
      "metadata": {},
      "source": [
        "### The render function\n",
        "\n",
        "Equation (3) in the paper is:\n",
        "\n",
        "\n",
        "$$\n",
        "\\hat{C} \\vec(r) = \\sum_{i=1}^{N} T_i (1- \\text{exp}(-\\sigma_i \\delta_i))\\vec{c}_i, \\text{where}, T_i=\\text{exp}\\left( \\sum_{j=1}^{i-1} \\sigma_j \\delta_j \\right)\n",
        "$$\n",
        "\n",
        "\n",
        "```python\n",
        "def render(model_func, poses, near, far, num_samples):\n",
        "    origins, directions = get_ray_batched(poses)\n",
        "\n",
        "    t = jnp.linspace(near, far, num_samples)\n",
        "    r = r_func(origins, directions, num_samples)\n",
        "\n",
        "    r = jnp.reshape(r, [-1, 3])\n",
        "    model_func(r)\n",
        "\n",
        "```\n",
        "### Construct the network\n",
        "\n",
        "The network is a series of MLPs\n"
      ],
      "id": "a9186aef"
    },
    {
      "cell_type": "code",
      "metadata": {},
      "source": [
        "from jax import random\n",
        "def get_params(m, n, key, scale=1e-2):\n",
        "    w_key, b_key = random.split(key)\n",
        "    return scale * random.normal(w_key, (n, m)), scale * random.normal(b_key, (n,))\n",
        "\n",
        "def get_all_params(sizes, key):\n",
        "    keys = random.split(key, len(sizes))\n",
        "    param_array = []\n",
        "    for i in range(len(sizes) - 1):\n",
        "        m = sizes[i]\n",
        "        n = sizes[i + 1]\n",
        "        param_array.append(get_params(m, n, key))\n",
        "    return param_array  \n"
      ],
      "id": "eed46877",
      "execution_count": null,
      "outputs": []
    }
  ],
  "metadata": {
    "kernelspec": {
      "name": "python3",
      "language": "python",
      "display_name": "Python 3 (ipykernel)"
    }
  },
  "nbformat": 4,
  "nbformat_minor": 5
}